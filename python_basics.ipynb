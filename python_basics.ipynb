{
  "nbformat": 4,
  "nbformat_minor": 0,
  "metadata": {
    "colab": {
      "name": "python_basics.ipynb",
      "provenance": [],
      "authorship_tag": "ABX9TyPAfPDlaQobTXcGeKIWMBAf",
      "include_colab_link": true
    },
    "kernelspec": {
      "name": "python3",
      "display_name": "Python 3"
    },
    "language_info": {
      "name": "python"
    }
  },
  "cells": [
    {
      "cell_type": "markdown",
      "metadata": {
        "id": "view-in-github",
        "colab_type": "text"
      },
      "source": [
        "<a href=\"https://colab.research.google.com/github/vaibhav12/MI_AI/blob/main/python_basics.ipynb\" target=\"_parent\"><img src=\"https://colab.research.google.com/assets/colab-badge.svg\" alt=\"Open In Colab\"/></a>"
      ]
    },
    {
      "cell_type": "markdown",
      "metadata": {
        "id": "HD5f0r5hODZy"
      },
      "source": [
        "**Hello World**"
      ]
    },
    {
      "cell_type": "code",
      "metadata": {
        "colab": {
          "base_uri": "https://localhost:8080/"
        },
        "id": "mHVnL8F5OCc8",
        "outputId": "61177fc5-383f-46c1-c8bf-02f4f8689d6c"
      },
      "source": [
        "print(\"Hello World!\")"
      ],
      "execution_count": null,
      "outputs": [
        {
          "output_type": "stream",
          "text": [
            "Hello World!\n"
          ],
          "name": "stdout"
        }
      ]
    },
    {
      "cell_type": "code",
      "metadata": {
        "id": "hTyuUi4KN_5C"
      },
      "source": [
        "Hello World"
      ],
      "execution_count": null,
      "outputs": []
    },
    {
      "cell_type": "markdown",
      "metadata": {
        "id": "nNq4EnuRWsGY"
      },
      "source": [
        "**DATA Type**"
      ]
    },
    {
      "cell_type": "code",
      "metadata": {
        "id": "NnEdiQA9NqCx",
        "colab": {
          "base_uri": "https://localhost:8080/"
        },
        "outputId": "6b64e161-836e-42b3-a539-5d0318cafbb7"
      },
      "source": [
        "a = 1\n",
        "print(a)\n",
        "print(type(a))"
      ],
      "execution_count": 2,
      "outputs": [
        {
          "output_type": "stream",
          "text": [
            "1\n",
            "<class 'int'>\n"
          ],
          "name": "stdout"
        }
      ]
    },
    {
      "cell_type": "code",
      "metadata": {
        "colab": {
          "base_uri": "https://localhost:8080/"
        },
        "id": "G4Xe2gUdXBC4",
        "outputId": "f323464e-b49e-4974-e939-37ece4b8c2b4"
      },
      "source": [
        "b = \"text\"\n",
        "print(b)\n",
        "print(type(b))"
      ],
      "execution_count": 3,
      "outputs": [
        {
          "output_type": "stream",
          "text": [
            "text\n",
            "<class 'str'>\n"
          ],
          "name": "stdout"
        }
      ]
    },
    {
      "cell_type": "code",
      "metadata": {
        "colab": {
          "base_uri": "https://localhost:8080/"
        },
        "id": "DiQZUfsmXGi1",
        "outputId": "3cdf68a4-ada3-4151-8f45-b9274df9f3b0"
      },
      "source": [
        "c = 1.5\n",
        "print(c)\n",
        "print(type(c))"
      ],
      "execution_count": 4,
      "outputs": [
        {
          "output_type": "stream",
          "text": [
            "1.5\n",
            "<class 'float'>\n"
          ],
          "name": "stdout"
        }
      ]
    },
    {
      "cell_type": "code",
      "metadata": {
        "colab": {
          "base_uri": "https://localhost:8080/"
        },
        "id": "EKBn8cppXKJm",
        "outputId": "ffab4729-0c3f-4774-9254-5fbdf98ac1a5"
      },
      "source": [
        "d = True\n",
        "print(d)\n",
        "print(type(d))"
      ],
      "execution_count": 5,
      "outputs": [
        {
          "output_type": "stream",
          "text": [
            "True\n",
            "<class 'bool'>\n"
          ],
          "name": "stdout"
        }
      ]
    },
    {
      "cell_type": "code",
      "metadata": {
        "colab": {
          "base_uri": "https://localhost:8080/"
        },
        "id": "iH0gWELnXSc3",
        "outputId": "19b6f2dd-aa67-4b35-f14c-fae7177325ae"
      },
      "source": [
        "a, b,c = 1, 2,3\n",
        "a, b,c = 1, 1.5,\"text\"\n",
        "print(a)\n",
        "print(type(a))\n",
        "print(b)\n",
        "print(type(b))\n",
        "print(c)\n",
        "print(type(c))"
      ],
      "execution_count": 7,
      "outputs": [
        {
          "output_type": "stream",
          "text": [
            "1\n",
            "<class 'int'>\n",
            "1.5\n",
            "<class 'float'>\n",
            "text\n",
            "<class 'str'>\n"
          ],
          "name": "stdout"
        }
      ]
    }
  ]
}